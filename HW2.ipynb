{
 "cells": [
  {
   "cell_type": "markdown",
   "metadata": {
    "cellId": "pg30vazuyxk4akp5j2dvvj"
   },
   "source": [
    "**Урок 2. Профилирование пользователей. Сегментация аудитории: unsupervised learning (clustering, LDA/ARTM), supervised (multi/binary classification)**"
   ]
  },
  {
   "cell_type": "markdown",
   "metadata": {
    "cellId": "njp3b9mb7ta30ff8tuh1j"
   },
   "source": [
    "**Домашнее задание**"
   ]
  },
  {
   "cell_type": "markdown",
   "metadata": {
    "cellId": "cyq1rqw91ltybzg272ski"
   },
   "source": [
    "1. Самостоятельно разобраться с тем, что такое tfidf (документация https://scikit-learn.org/stable/modules/generated/sklearn.feature_extraction.text.TfidfVectorizer.html и еще - https://scikit-learn.org/stable/modules/feature_extraction.html#text-feature-extraction)\n",
    "2. Модифицировать код функции get_user_embedding таким образом, чтобы считалось не среднее (как в примере np.mean), а медиана. Применить такое преобразование к данным, обучить модель прогнозирования оттока и посчитать метрики качества и сохранить их: roc auc, precision/recall/f_score (для 3 последних - подобрать оптимальный порог с помощью precision_recall_curve, как это делалось на уроке)\n",
    "3. Повторить п.2, но используя уже не медиану, а max\n",
    "4. (опциональное, если очень хочется) Воспользовавшись полученными знаниями из п.1, повторить пункт 2, но уже взвешивая новости по tfidf (подсказка: нужно получить веса-коэффициенты для каждого документа. Не все документы одинаково информативны и несут какой-то положительный сигнал). Подсказка 2 - нужен именно idf, как вес.\n",
    "5. Сформировать на выходе единую таблицу, сравнивающую качество 3 разных метода получения эмбедингов пользователей: mean, median, max, idf_mean по метрикам roc_auc, precision, recall, f_score\n",
    "6. Сделать самостоятельные выводы и предположения о том, почему тот или ной способ оказался эффективнее остальных"
   ]
  },
  {
   "cell_type": "markdown",
   "metadata": {
    "cellId": "1uaotx9ld5d2e756zl30av"
   },
   "source": [
    "## Выполнение"
   ]
  },
  {
   "cell_type": "markdown",
   "metadata": {
    "cellId": "1qthvkoij01jnncoa0v1l"
   },
   "source": [
    "### Модифицировать код функции get_user_embedding таким образом, чтобы считалось не среднее (как в примере np.mean), а медиана.  Применить такое преобразование к данным, обучить модель прогнозирования оттока и посчитать метрики качества и сохранить их: roc auc, precision/recall/f_score (для 3 последних - подобрать оптимальный порог с помощью precision_recall_curve, как это делалось на уроке)"
   ]
  },
  {
   "cell_type": "code",
   "execution_count": 1,
   "metadata": {
    "cellId": "t5zu9jplpt68vxt0euhka"
   },
   "outputs": [],
   "source": [
    "import pandas as pd"
   ]
  },
  {
   "cell_type": "markdown",
   "metadata": {
    "cellId": "xe2gwq7cqh6pyroamns28"
   },
   "source": [
    "#### Загрузим новости, пользователей пользователей и списки последних прочитанных новостей"
   ]
  },
  {
   "cell_type": "code",
   "execution_count": 2,
   "metadata": {
    "cellId": "9ulsn234jmqnkut613bt"
   },
   "outputs": [],
   "source": [
    "news = pd.read_csv(\"articles.csv\")\n",
    "users = pd.read_csv(\"users_articles.csv\")"
   ]
  },
  {
   "cell_type": "code",
   "execution_count": 3,
   "metadata": {
    "cellId": "48ucztf8npmqh9ygfj0pik"
   },
   "outputs": [
    {
     "data": {
      "text/html": [
       "<div>\n",
       "<style scoped>\n",
       "    .dataframe tbody tr th:only-of-type {\n",
       "        vertical-align: middle;\n",
       "    }\n",
       "\n",
       "    .dataframe tbody tr th {\n",
       "        vertical-align: top;\n",
       "    }\n",
       "\n",
       "    .dataframe thead th {\n",
       "        text-align: right;\n",
       "    }\n",
       "</style>\n",
       "<table border=\"1\" class=\"dataframe\">\n",
       "  <thead>\n",
       "    <tr style=\"text-align: right;\">\n",
       "      <th></th>\n",
       "      <th>doc_id</th>\n",
       "      <th>title</th>\n",
       "    </tr>\n",
       "  </thead>\n",
       "  <tbody>\n",
       "    <tr>\n",
       "      <th>0</th>\n",
       "      <td>6</td>\n",
       "      <td>Заместитель председателяnправительства РФnСерг...</td>\n",
       "    </tr>\n",
       "    <tr>\n",
       "      <th>1</th>\n",
       "      <td>4896</td>\n",
       "      <td>Матч 1/16 финала Кубка России по футболу был п...</td>\n",
       "    </tr>\n",
       "    <tr>\n",
       "      <th>2</th>\n",
       "      <td>4897</td>\n",
       "      <td>Форвард «Авангарда» Томаш Заборский прокоммент...</td>\n",
       "    </tr>\n",
       "  </tbody>\n",
       "</table>\n",
       "</div>"
      ],
      "text/plain": [
       "   doc_id                                              title\n",
       "0       6  Заместитель председателяnправительства РФnСерг...\n",
       "1    4896  Матч 1/16 финала Кубка России по футболу был п...\n",
       "2    4897  Форвард «Авангарда» Томаш Заборский прокоммент..."
      ]
     },
     "metadata": {},
     "output_type": "display_data"
    },
    {
     "data": {
      "text/html": [
       "<div>\n",
       "<style scoped>\n",
       "    .dataframe tbody tr th:only-of-type {\n",
       "        vertical-align: middle;\n",
       "    }\n",
       "\n",
       "    .dataframe tbody tr th {\n",
       "        vertical-align: top;\n",
       "    }\n",
       "\n",
       "    .dataframe thead th {\n",
       "        text-align: right;\n",
       "    }\n",
       "</style>\n",
       "<table border=\"1\" class=\"dataframe\">\n",
       "  <thead>\n",
       "    <tr style=\"text-align: right;\">\n",
       "      <th></th>\n",
       "      <th>uid</th>\n",
       "      <th>articles</th>\n",
       "    </tr>\n",
       "  </thead>\n",
       "  <tbody>\n",
       "    <tr>\n",
       "      <th>0</th>\n",
       "      <td>u105138</td>\n",
       "      <td>[293672, 293328, 293001, 293622, 293126, 1852]</td>\n",
       "    </tr>\n",
       "    <tr>\n",
       "      <th>1</th>\n",
       "      <td>u108690</td>\n",
       "      <td>[3405, 1739, 2972, 1158, 1599, 322665]</td>\n",
       "    </tr>\n",
       "    <tr>\n",
       "      <th>2</th>\n",
       "      <td>u108339</td>\n",
       "      <td>[1845, 2009, 2356, 1424, 2939, 323389]</td>\n",
       "    </tr>\n",
       "  </tbody>\n",
       "</table>\n",
       "</div>"
      ],
      "text/plain": [
       "       uid                                        articles\n",
       "0  u105138  [293672, 293328, 293001, 293622, 293126, 1852]\n",
       "1  u108690          [3405, 1739, 2972, 1158, 1599, 322665]\n",
       "2  u108339          [1845, 2009, 2356, 1424, 2939, 323389]"
      ]
     },
     "metadata": {},
     "output_type": "display_data"
    }
   ],
   "source": [
    "display(news.head(3), users.head(3))"
   ]
  },
  {
   "cell_type": "markdown",
   "metadata": {
    "cellId": "uf0lpnggkhbc8c0hkll5k9"
   },
   "source": [
    "Итак, нам нужно получить векторные представления пользователей на основе прочитанным ими новостей и самих новостей"
   ]
  },
  {
   "cell_type": "markdown",
   "metadata": {
    "cellId": "rsqzhdox0p111d1z6o5569"
   },
   "source": [
    "#### Получаем векторные представления новостей"
   ]
  },
  {
   "cell_type": "code",
   "execution_count": 149,
   "metadata": {
    "cellId": "iobanm52fusghuujj0yrzo"
   },
   "outputs": [
    {
     "name": "stdout",
     "output_type": "stream",
     "text": [
      "Defaulting to user installation because normal site-packages is not writeable\n",
      "Requirement already satisfied: gensim in /usr/local/lib/python3.7/dist-packages (3.8.1)\n",
      "Collecting gensim\n",
      "  Downloading gensim-3.8.3-cp37-cp37m-manylinux1_x86_64.whl (24.2 MB)\n",
      "\u001b[K     |████████████████████████████████| 24.2 MB 329 kB/s eta 0:00:01\n",
      "\u001b[?25hRequirement already satisfied: numpy>=1.11.3 in /kernel/lib/python3.7/site-packages (from gensim) (1.19.4)\n",
      "Requirement already satisfied: smart-open>=1.8.1 in /usr/local/lib/python3.7/dist-packages (from gensim) (3.0.0)\n",
      "Requirement already satisfied: six>=1.5.0 in /kernel/lib/python3.7/site-packages (from gensim) (1.15.0)\n",
      "Requirement already satisfied: scipy>=0.18.1 in /usr/local/lib/python3.7/dist-packages (from gensim) (1.4.1)\n",
      "Requirement already satisfied: requests in /kernel/lib/python3.7/site-packages (from smart-open>=1.8.1->gensim) (2.25.1)\n",
      "Requirement already satisfied: chardet<5,>=3.0.2 in /kernel/lib/python3.7/site-packages (from requests->smart-open>=1.8.1->gensim) (4.0.0)\n",
      "Requirement already satisfied: certifi>=2017.4.17 in /kernel/lib/python3.7/site-packages (from requests->smart-open>=1.8.1->gensim) (2020.12.5)\n",
      "Requirement already satisfied: idna<3,>=2.5 in /usr/lib/python3/dist-packages (from requests->smart-open>=1.8.1->gensim) (2.6)\n",
      "Requirement already satisfied: urllib3<1.27,>=1.21.1 in /kernel/lib/python3.7/site-packages (from requests->smart-open>=1.8.1->gensim) (1.26.3)\n",
      "Installing collected packages: gensim\n",
      "Successfully installed gensim-3.8.3\n",
      "Defaulting to user installation because normal site-packages is not writeable\n",
      "Requirement already satisfied: razdel in /home/jupyter/.local/lib/python3.7/site-packages (0.5.0)\n",
      "Defaulting to user installation because normal site-packages is not writeable\n",
      "Requirement already satisfied: pymorphy2 in /usr/local/lib/python3.7/dist-packages (0.9.1)\n",
      "Requirement already satisfied: dawg-python>=0.7.1 in /usr/local/lib/python3.7/dist-packages (from pymorphy2) (0.7.2)\n",
      "Requirement already satisfied: pymorphy2-dicts-ru<3.0,>=2.4 in /usr/local/lib/python3.7/dist-packages (from pymorphy2) (2.4.417127.4579844)\n",
      "Requirement already satisfied: docopt>=0.6 in /usr/local/lib/python3.7/dist-packages (from pymorphy2) (0.6.2)\n"
     ]
    }
   ],
   "source": [
    "\"Gensim — библиотека обработки естественного языка предназначения для «Тематического моделирования».\"\n",
    "%pip install --upgrade gensim\n",
    "\n",
    "\"\"\"\n",
    "razdel - rule-based system for Russian sentence and word tokenization. See natasha.github.io article for more info.\n",
    "https://github.com/natasha/razdel\"\"\"\n",
    "%pip install razdel\n",
    "\n",
    "\"Морфологический анализатор pymorphy2\"\n",
    "%pip install pymorphy2"
   ]
  },
  {
   "cell_type": "code",
   "execution_count": 4,
   "metadata": {
    "cellId": "jb4bkk47h6w8feg76x79"
   },
   "outputs": [
    {
     "name": "stderr",
     "output_type": "stream",
     "text": [
      "[nltk_data] Downloading package stopwords to\n",
      "[nltk_data]     /home/jupyter/nltk_data...\n",
      "[nltk_data]   Package stopwords is already up-to-date!\n"
     ]
    },
    {
     "data": {
      "text/plain": [
       "True"
      ]
     },
     "metadata": {},
     "output_type": "display_data"
    }
   ],
   "source": [
    "#предобработка текстов\n",
    "from gensim.corpora.dictionary import Dictionary\n",
    "import re\n",
    "import numpy as np\n",
    "from razdel import tokenize  # https://github.com/natasha/razdel\n",
    "import pymorphy2\n",
    "\n",
    "import nltk\n",
    "nltk.download('stopwords')"
   ]
  },
  {
   "cell_type": "code",
   "execution_count": 5,
   "metadata": {
    "cellId": "mil50ndij9fo09239rktd"
   },
   "outputs": [],
   "source": [
    "stopword_ru = nltk.corpus.stopwords.words('russian')\n",
    "len(stopword_ru)\n",
    "\n",
    "morph = pymorphy2.MorphAnalyzer()"
   ]
  },
  {
   "cell_type": "code",
   "execution_count": 6,
   "metadata": {
    "cellId": "7t5okjxedys5k95f05994g"
   },
   "outputs": [
    {
     "data": {
      "text/plain": [
       "776"
      ]
     },
     "metadata": {},
     "output_type": "display_data"
    },
    {
     "name": "stderr",
     "output_type": "stream",
     "text": [
      "/kernel/lib/python3.7/site-packages/ml_kernel/kernel.py:800: UserWarning: The following variables cannot be serialized: f\n",
      "  warnings.warn(message)\n"
     ]
    }
   ],
   "source": [
    "with open('stopwords.txt') as f:\n",
    "    additional_stopwords = [w.strip() for w in f.readlines() if w]\n",
    "stopword_ru += additional_stopwords\n",
    "len(stopword_ru)"
   ]
  },
  {
   "cell_type": "code",
   "execution_count": 7,
   "metadata": {
    "cellId": "iwm2zmejao7txam51dpqc"
   },
   "outputs": [],
   "source": [
    "def clean_text(text):\n",
    "    \"\"\"\n",
    "    Очистка текста\n",
    "    :return: Очищеный текст\n",
    "    \"\"\"\n",
    "    if not isinstance(text, str):\n",
    "        text = str(text)\n",
    "\n",
    "    text = text.lower()\n",
    "    text = text.strip('\\n').strip('\\r').strip('\\t')\n",
    "    text = re.sub(\"-\\s\\r\\n\\|-\\s\\r\\n|\\r\\n\", '', str(text))\n",
    "\n",
    "    text = re.sub(\"[0-9]|[-—.,:;_%©«»?*!@#№$^•·&()]|[+=]|[[]|[]]|[/]|\", '',\n",
    "                  text)\n",
    "    text = re.sub(r\"\\r\\n\\t|\\n|\\\\s|\\r\\t|\\\\n\", ' ', text)\n",
    "    text = re.sub(r'[\\xad]|[\\s+]', ' ', text.strip())\n",
    "\n",
    "    # tokens = list(tokenize(text))\n",
    "    # words = [_.text for _ in tokens]\n",
    "    # words = [w for w in words if w not in stopword_ru]\n",
    "\n",
    "    # return \" \".join(words)\n",
    "    return text\n",
    "\n",
    "\n",
    "cache = {}\n",
    "\n",
    "\n",
    "def lemmatization(text):\n",
    "    \"\"\"\n",
    "    Лемматизация\n",
    "        [0] если зашел тип не `str` делаем его `str`\n",
    "        [1] токенизация предложения через razdel\n",
    "        [2] проверка есть ли в начале слова '-'\n",
    "        [3] проверка токена с одного символа\n",
    "        [4] проверка есть ли данное слово в кэше\n",
    "        [5] лемматизация слова\n",
    "        [6] проверка на стоп-слова\n",
    "    :return: Список отлемматизированых токенов\n",
    "    \"\"\"\n",
    "    # [0]\n",
    "    if not isinstance(text, str):\n",
    "        text = str(text)\n",
    "\n",
    "    # [1]\n",
    "    tokens = list(tokenize(text))\n",
    "    words = [_.text for _ in tokens]\n",
    "\n",
    "    words_lem = []\n",
    "    for w in words:\n",
    "        if w[0] == '-':  # [2]\n",
    "            w = w[1:]\n",
    "        if len(w) > 1:  # [3]\n",
    "            if w in cache:  # [4]\n",
    "                words_lem.append(cache[w])\n",
    "            else:  # [5]\n",
    "                temp_cach = cache[w] = morph.parse(w)[0].normal_form\n",
    "                words_lem.append(temp_cach)\n",
    "\n",
    "    words_lem_without_stopwords = [\n",
    "        i for i in words_lem if not i in stopword_ru\n",
    "    ]  # [6]\n",
    "\n",
    "    return words_lem_without_stopwords"
   ]
  },
  {
   "cell_type": "code",
   "execution_count": 12,
   "metadata": {
    "cellId": "y072w5g5jdbm79ew5nlfv"
   },
   "outputs": [
    {
     "name": "stderr",
     "output_type": "stream",
     "text": [
      "/kernel/lib/python3.7/site-packages/ml_kernel/kernel.py:14: FutureWarning: Possible nested set at position 39\n",
      "  from collections import abc\n"
     ]
    },
    {
     "name": "stdout",
     "output_type": "stream",
     "text": [
      "CPU times: user 21.4 s, sys: 1.27 s, total: 22.6 s\n",
      "Wall time: 24.8 s\n"
     ]
    }
   ],
   "source": [
    "%%time\n",
    "#Запускаем очистку текста. Будет долго...\n",
    "news['title'] = news['title'].apply(lambda x: clean_text(x), 1)"
   ]
  },
  {
   "cell_type": "code",
   "execution_count": 14,
   "metadata": {
    "cellId": "1v6n53eae44usf1b5aavo"
   },
   "outputs": [
    {
     "name": "stdout",
     "output_type": "stream",
     "text": [
      "CPU times: user 2min 56s, sys: 1.34 s, total: 2min 57s\n",
      "Wall time: 2min 59s\n"
     ]
    },
    {
     "name": "stderr",
     "output_type": "stream",
     "text": [
      "/kernel/lib/python3.7/site-packages/ipystate/state.py:135: UserWarning: Skipping walk through <class 'dict'> with size: 325752\n",
      "Use %enable_full_walk to serialize all variables correctly\n",
      "  {name: self._state[name] for name in self._state.varnames() if not self._skip_variable(name)}\n"
     ]
    }
   ],
   "source": [
    "#!M\n",
    "%%time\n",
    "#Запускаем лемматизацию текста. Будет очень долго...\n",
    "news['title'] = news['title'].apply(lambda x: lemmatization(x), 1)"
   ]
  },
  {
   "cell_type": "markdown",
   "metadata": {
    "cellId": "8bv0p8m8g6fdax805y8vwu"
   },
   "source": [
    "#### А теперь в 3 строчки обучим нашу модель"
   ]
  },
  {
   "cell_type": "code",
   "execution_count": 15,
   "metadata": {
    "cellId": "56j5wscuvu5jpab6csekj8"
   },
   "outputs": [
    {
     "name": "stdout",
     "output_type": "stream",
     "text": [
      "CPU times: user 14.5 s, sys: 1.16 s, total: 15.6 s\n",
      "Wall time: 21.1 s\n"
     ]
    },
    {
     "name": "stderr",
     "output_type": "stream",
     "text": [
      "/kernel/lib/python3.7/site-packages/ipystate/state.py:135: UserWarning: Skipping walk through <class 'list'> with size: 27000\n",
      "Use %enable_full_walk to serialize all variables correctly\n",
      "  {name: self._state[name] for name in self._state.varnames() if not self._skip_variable(name)}\n",
      "/kernel/lib/python3.7/site-packages/ipystate/state.py:135: UserWarning: Skipping walk through <class 'list'> with size: 27000\n",
      "Use %enable_full_walk to serialize all variables correctly\n",
      "  {name: self._state[name] for name in self._state.varnames() if not self._skip_variable(name)}\n",
      "/kernel/lib/python3.7/site-packages/ipystate/state.py:135: UserWarning: Skipping walk through <class 'dict'> with size: 141166\n",
      "Use %enable_full_walk to serialize all variables correctly\n",
      "  {name: self._state[name] for name in self._state.varnames() if not self._skip_variable(name)}\n",
      "/kernel/lib/python3.7/site-packages/ipystate/state.py:135: UserWarning: Skipping walk through <class 'dict'> with size: 141166\n",
      "Use %enable_full_walk to serialize all variables correctly\n",
      "  {name: self._state[name] for name in self._state.varnames() if not self._skip_variable(name)}\n",
      "/kernel/lib/python3.7/site-packages/ipystate/state.py:135: UserWarning: Skipping walk through <class 'dict'> with size: 141166\n",
      "Use %enable_full_walk to serialize all variables correctly\n",
      "  {name: self._state[name] for name in self._state.varnames() if not self._skip_variable(name)}\n",
      "/kernel/lib/python3.7/site-packages/ipystate/state.py:135: UserWarning: Skipping walk through <class 'dict'> with size: 325752\n",
      "Use %enable_full_walk to serialize all variables correctly\n",
      "  {name: self._state[name] for name in self._state.varnames() if not self._skip_variable(name)}\n"
     ]
    }
   ],
   "source": [
    "#!M\n",
    "%%time\n",
    "#сформируем список наших текстов, разбив еще и на пробелы\n",
    "texts = [t for t in news['title'].values]\n",
    "\n",
    "# Create a corpus from a list of texts\n",
    "common_dictionary = Dictionary(texts)\n",
    "common_corpus = [common_dictionary.doc2bow(text) for text in texts]"
   ]
  },
  {
   "cell_type": "markdown",
   "metadata": {
    "cellId": "q39vdkz22wcklrsssvopbg"
   },
   "source": [
    "Что такое common_dictionary и как он выглядит"
   ]
  },
  {
   "cell_type": "code",
   "execution_count": 16,
   "metadata": {
    "cellId": "vq2zrunb5v3tlu0w21sdz"
   },
   "outputs": [
    {
     "name": "stdout",
     "output_type": "stream",
     "text": [
      "['ватутин', 'взаимодействие', 'власть', 'войти', 'вячеслав']\n"
     ]
    },
    {
     "name": "stderr",
     "output_type": "stream",
     "text": [
      "/kernel/lib/python3.7/site-packages/ipystate/state.py:135: UserWarning: Skipping walk through <class 'dict'> with size: 141166\n",
      "Use %enable_full_walk to serialize all variables correctly\n",
      "  {name: self._state[name] for name in self._state.varnames() if not self._skip_variable(name)}\n",
      "/kernel/lib/python3.7/site-packages/ipystate/state.py:135: UserWarning: Skipping walk through <class 'dict'> with size: 141166\n",
      "Use %enable_full_walk to serialize all variables correctly\n",
      "  {name: self._state[name] for name in self._state.varnames() if not self._skip_variable(name)}\n",
      "/kernel/lib/python3.7/site-packages/ipystate/state.py:135: UserWarning: Skipping walk through <class 'dict'> with size: 141166\n",
      "Use %enable_full_walk to serialize all variables correctly\n",
      "  {name: self._state[name] for name in self._state.varnames() if not self._skip_variable(name)}\n",
      "/kernel/lib/python3.7/site-packages/ipystate/state.py:135: UserWarning: Skipping walk through <class 'dict'> with size: 141166\n",
      "Use %enable_full_walk to serialize all variables correctly\n",
      "  {name: self._state[name] for name in self._state.varnames() if not self._skip_variable(name)}\n"
     ]
    }
   ],
   "source": [
    "print([common_dictionary[i] for i in range(10, 15)])"
   ]
  },
  {
   "cell_type": "markdown",
   "metadata": {
    "cellId": "2rg8jw1pnn9jut9d74tcun"
   },
   "source": [
    "Все просто - это словарь наших слов"
   ]
  },
  {
   "cell_type": "markdown",
   "metadata": {
    "cellId": "wt2o3ptzueg6lemhcbce0t"
   },
   "source": [
    "Запускаем обучение"
   ]
  },
  {
   "cell_type": "code",
   "execution_count": 17,
   "metadata": {
    "cellId": "m4ae115iuf62pi0esuk13"
   },
   "outputs": [
    {
     "name": "stdout",
     "output_type": "stream",
     "text": [
      "CPU times: user 5min 10s, sys: 8min 34s, total: 13min 44s\n",
      "Wall time: 2min 39s\n"
     ]
    },
    {
     "name": "stderr",
     "output_type": "stream",
     "text": [
      "/kernel/lib/python3.7/site-packages/ipystate/state.py:135: UserWarning: Skipping walk through <class 'dict'> with size: 141166\n",
      "Use %enable_full_walk to serialize all variables correctly\n",
      "  {name: self._state[name] for name in self._state.varnames() if not self._skip_variable(name)}\n",
      "/kernel/lib/python3.7/site-packages/ipystate/state.py:135: UserWarning: Skipping walk through <class 'dict'> with size: 141166\n",
      "Use %enable_full_walk to serialize all variables correctly\n",
      "  {name: self._state[name] for name in self._state.varnames() if not self._skip_variable(name)}\n",
      "/kernel/lib/python3.7/site-packages/ipystate/state.py:135: UserWarning: Skipping walk through <class 'dict'> with size: 141166\n",
      "Use %enable_full_walk to serialize all variables correctly\n",
      "  {name: self._state[name] for name in self._state.varnames() if not self._skip_variable(name)}\n",
      "/kernel/lib/python3.7/site-packages/ipystate/state.py:135: UserWarning: Skipping walk through <class 'dict'> with size: 141166\n",
      "Use %enable_full_walk to serialize all variables correctly\n",
      "  {name: self._state[name] for name in self._state.varnames() if not self._skip_variable(name)}\n",
      "/kernel/lib/python3.7/site-packages/ipystate/state.py:135: UserWarning: Skipping walk through <class 'list'> with size: 27000\n",
      "Use %enable_full_walk to serialize all variables correctly\n",
      "  {name: self._state[name] for name in self._state.varnames() if not self._skip_variable(name)}\n"
     ]
    }
   ],
   "source": [
    "#!M\n",
    "%%time\n",
    "from gensim.models import LdaModel\n",
    "\n",
    "# Train the model on the corpus.\n",
    "lda = LdaModel(common_corpus, num_topics=25, id2word=common_dictionary, passes=5)"
   ]
  },
  {
   "cell_type": "code",
   "execution_count": 18,
   "metadata": {
    "cellId": "pf1zd3vdtycfsh1xw4w1j8"
   },
   "outputs": [
    {
     "name": "stderr",
     "output_type": "stream",
     "text": [
      "/kernel/lib/python3.7/site-packages/ipystate/state.py:135: UserWarning: Skipping walk through <class 'dict'> with size: 141166\n",
      "Use %enable_full_walk to serialize all variables correctly\n",
      "  {name: self._state[name] for name in self._state.varnames() if not self._skip_variable(name)}\n",
      "/kernel/lib/python3.7/site-packages/ipystate/state.py:135: UserWarning: Skipping walk through <class 'dict'> with size: 141166\n",
      "Use %enable_full_walk to serialize all variables correctly\n",
      "  {name: self._state[name] for name in self._state.varnames() if not self._skip_variable(name)}\n",
      "/kernel/lib/python3.7/site-packages/ipystate/state.py:135: UserWarning: Skipping walk through <class 'dict'> with size: 141166\n",
      "Use %enable_full_walk to serialize all variables correctly\n",
      "  {name: self._state[name] for name in self._state.varnames() if not self._skip_variable(name)}\n",
      "/kernel/lib/python3.7/site-packages/ipystate/state.py:135: UserWarning: Skipping walk through <class 'dict'> with size: 141166\n",
      "Use %enable_full_walk to serialize all variables correctly\n",
      "  {name: self._state[name] for name in self._state.varnames() if not self._skip_variable(name)}\n",
      "/kernel/lib/python3.7/site-packages/ipystate/state.py:135: UserWarning: Skipping walk through <class 'dict'> with size: 141166\n",
      "Use %enable_full_walk to serialize all variables correctly\n",
      "  {name: self._state[name] for name in self._state.varnames() if not self._skip_variable(name)}\n",
      "/kernel/lib/python3.7/site-packages/ipystate/state.py:135: UserWarning: Skipping walk through <class 'dict'> with size: 141166\n",
      "Use %enable_full_walk to serialize all variables correctly\n",
      "  {name: self._state[name] for name in self._state.varnames() if not self._skip_variable(name)}\n",
      "/kernel/lib/python3.7/site-packages/ipystate/state.py:135: UserWarning: Skipping walk through <class 'dict'> with size: 141166\n",
      "Use %enable_full_walk to serialize all variables correctly\n",
      "  {name: self._state[name] for name in self._state.varnames() if not self._skip_variable(name)}\n",
      "/kernel/lib/python3.7/site-packages/ipystate/state.py:135: UserWarning: Skipping walk through <class 'dict'> with size: 141166\n",
      "Use %enable_full_walk to serialize all variables correctly\n",
      "  {name: self._state[name] for name in self._state.varnames() if not self._skip_variable(name)}\n"
     ]
    }
   ],
   "source": [
    "from gensim.test.utils import datapath\n",
    "# Save model to disk.\n",
    "temp_file = datapath(\"model.lda\")\n",
    "lda.save(temp_file)\n",
    "\n",
    "# Load a potentially pretrained model from disk.\n",
    "lda = LdaModel.load(temp_file)"
   ]
  },
  {
   "cell_type": "markdown",
   "metadata": {
    "cellId": "ymqaf58zu3k5mbyoj513y"
   },
   "source": [
    "Обучили модель. Теперь 2 вопроса:\n",
    "\n",
    "1. как выглядят наши темы\n",
    "2. как получить для документа вектор значений (вероятности принадлежности каждой теме)"
   ]
  },
  {
   "cell_type": "code",
   "execution_count": 19,
   "metadata": {
    "cellId": "nnpj9gdy5mtazxaopdml7e"
   },
   "outputs": [
    {
     "name": "stdout",
     "output_type": "stream",
     "text": [
      "['форвард' 'авангард' 'томаш' 'заборский' 'прокомментировать' 'игра'\n",
      " 'команда' 'матч' 'чемпионат' 'кхл' 'против' 'атланта' 'nnnn' 'плохой'\n",
      " 'матч' 'нижний' 'новгород' 'против' 'торпедо' 'настраиваться' 'первый'\n",
      " 'минута' 'включиться' 'заборский' 'получиться' 'забросить' 'быстрый'\n",
      " 'гол' 'задать' 'хороший' 'темп' 'поединок' 'играть' 'хороший' 'сторона'\n",
      " 'пять' 'очко' 'выезд' 'девять' 'хороший']\n"
     ]
    },
    {
     "data": {
      "text/plain": [
       "[(3, 0.06257276),\n",
       " (7, 0.15017986),\n",
       " (11, 0.09844572),\n",
       " (15, 0.033536147),\n",
       " (17, 0.492036),\n",
       " (22, 0.099585906),\n",
       " (23, 0.04508121)]"
      ]
     },
     "metadata": {},
     "output_type": "display_data"
    },
    {
     "name": "stderr",
     "output_type": "stream",
     "text": [
      "/kernel/lib/python3.7/site-packages/ipystate/state.py:135: UserWarning: Skipping walk through <class 'dict'> with size: 141166\n",
      "Use %enable_full_walk to serialize all variables correctly\n",
      "  {name: self._state[name] for name in self._state.varnames() if not self._skip_variable(name)}\n",
      "/kernel/lib/python3.7/site-packages/ipystate/state.py:135: UserWarning: Skipping walk through <class 'dict'> with size: 141166\n",
      "Use %enable_full_walk to serialize all variables correctly\n",
      "  {name: self._state[name] for name in self._state.varnames() if not self._skip_variable(name)}\n",
      "/kernel/lib/python3.7/site-packages/ipystate/state.py:135: UserWarning: Skipping walk through <class 'dict'> with size: 141166\n",
      "Use %enable_full_walk to serialize all variables correctly\n",
      "  {name: self._state[name] for name in self._state.varnames() if not self._skip_variable(name)}\n",
      "/kernel/lib/python3.7/site-packages/ipystate/state.py:135: UserWarning: Skipping walk through <class 'dict'> with size: 141166\n",
      "Use %enable_full_walk to serialize all variables correctly\n",
      "  {name: self._state[name] for name in self._state.varnames() if not self._skip_variable(name)}\n",
      "/kernel/lib/python3.7/site-packages/ipystate/state.py:135: UserWarning: Skipping walk through <class 'dict'> with size: 141166\n",
      "Use %enable_full_walk to serialize all variables correctly\n",
      "  {name: self._state[name] for name in self._state.varnames() if not self._skip_variable(name)}\n",
      "/kernel/lib/python3.7/site-packages/ipystate/state.py:135: UserWarning: Skipping walk through <class 'dict'> with size: 141166\n",
      "Use %enable_full_walk to serialize all variables correctly\n",
      "  {name: self._state[name] for name in self._state.varnames() if not self._skip_variable(name)}\n",
      "/kernel/lib/python3.7/site-packages/ipystate/state.py:135: UserWarning: Skipping walk through <class 'dict'> with size: 141166\n",
      "Use %enable_full_walk to serialize all variables correctly\n",
      "  {name: self._state[name] for name in self._state.varnames() if not self._skip_variable(name)}\n",
      "/kernel/lib/python3.7/site-packages/ipystate/state.py:135: UserWarning: Skipping walk through <class 'dict'> with size: 141166\n",
      "Use %enable_full_walk to serialize all variables correctly\n",
      "  {name: self._state[name] for name in self._state.varnames() if not self._skip_variable(name)}\n"
     ]
    }
   ],
   "source": [
    "# Create a new corpus, made of previously unseen documents.\n",
    "# Создайте новый корпус, состоящий из ранее невидимых документов.\n",
    "other_texts = [t for t in news['title'].iloc[:3]]\n",
    "other_corpus = [common_dictionary.doc2bow(text) for text in other_texts]\n",
    "\n",
    "unseen_doc = other_corpus[2]\n",
    "\n",
    "print(other_texts[2])\n",
    "lda[unseen_doc]"
   ]
  },
  {
   "cell_type": "code",
   "execution_count": 20,
   "metadata": {
    "cellId": "7zt82rggifmmu3jumw2edm"
   },
   "outputs": [
    {
     "name": "stdout",
     "output_type": "stream",
     "text": [
      "topic_0: ракета система первый земля станция новый скорость\n",
      "topic_1: сша военный россия российский американский сила армия\n",
      "topic_2: школа русский франция язык французский париж общество\n",
      "topic_3: тыс рост млн составить цена россия рубль\n",
      "topic_4: москва nn день мероприятие центр столица московский\n",
      "topic_5: пенсия журнал продукция возраст звезда писать популярный\n",
      "topic_6: гражданин закон решение документ право уголовный россия\n",
      "topic_7: исследование млрд фонд технология снижение эксперимент млн\n",
      "topic_8: мышь медицина орден выдавать приток аргентина фунт\n",
      "topic_9: космос воздух пилот лодка атмосферный лётчик небо\n",
      "topic_10: nn произойти двигатель запуск экипаж причина аэропорт\n",
      "topic_11: новый проект развитие научный россия эксперт российский\n",
      "topic_12: nn ребёнок женщина мужчина статья nnn газета\n",
      "topic_13: россия украина российский глава газ украинский санкция\n",
      "topic_14: банк nn рубль директор дмитрий владимир александр\n",
      "topic_15: помощь день врач рак лечение организм препарат\n",
      "topic_16: земля смерть планета температура энергия участок градус\n",
      "topic_17: команда игра кожа хороший клуб победа nn\n",
      "topic_18: британский великобритания офицер лондон флот величина миссия\n",
      "topic_19: погибнуть турция турецкий иск общество оборудование конструкция\n",
      "topic_20: сообщество армения ирландия армянский приступ номинация завысить\n",
      "topic_21: выяснить мозг активность доклад виза брюссель горизонт\n",
      "topic_22: всё очень большой жизнь хороший например университет\n",
      "topic_23: сократиться республика грузия казахстан чечня эстония литва\n",
      "topic_24: девочка этаж автобус австралийский куба ухо уральский\n"
     ]
    },
    {
     "name": "stderr",
     "output_type": "stream",
     "text": [
      "/kernel/lib/python3.7/site-packages/ipystate/state.py:135: UserWarning: Skipping walk through <class 'dict'> with size: 141166\n",
      "Use %enable_full_walk to serialize all variables correctly\n",
      "  {name: self._state[name] for name in self._state.varnames() if not self._skip_variable(name)}\n",
      "/kernel/lib/python3.7/site-packages/ipystate/state.py:135: UserWarning: Skipping walk through <class 'dict'> with size: 141166\n",
      "Use %enable_full_walk to serialize all variables correctly\n",
      "  {name: self._state[name] for name in self._state.varnames() if not self._skip_variable(name)}\n",
      "/kernel/lib/python3.7/site-packages/ipystate/state.py:135: UserWarning: Skipping walk through <class 'dict'> with size: 141166\n",
      "Use %enable_full_walk to serialize all variables correctly\n",
      "  {name: self._state[name] for name in self._state.varnames() if not self._skip_variable(name)}\n",
      "/kernel/lib/python3.7/site-packages/ipystate/state.py:135: UserWarning: Skipping walk through <class 'dict'> with size: 141166\n",
      "Use %enable_full_walk to serialize all variables correctly\n",
      "  {name: self._state[name] for name in self._state.varnames() if not self._skip_variable(name)}\n",
      "/kernel/lib/python3.7/site-packages/ipystate/state.py:135: UserWarning: Skipping walk through <class 'list'> with size: 7\n",
      "Use %enable_full_walk to serialize all variables correctly\n",
      "  {name: self._state[name] for name in self._state.varnames() if not self._skip_variable(name)}\n",
      "/kernel/lib/python3.7/site-packages/ipystate/state.py:135: UserWarning: Skipping walk through <class 'list'> with size: 7\n",
      "Use %enable_full_walk to serialize all variables correctly\n",
      "  {name: self._state[name] for name in self._state.varnames() if not self._skip_variable(name)}\n",
      "/kernel/lib/python3.7/site-packages/ipystate/state.py:135: UserWarning: Skipping walk through <class 'list'> with size: 7\n",
      "Use %enable_full_walk to serialize all variables correctly\n",
      "  {name: self._state[name] for name in self._state.varnames() if not self._skip_variable(name)}\n",
      "/kernel/lib/python3.7/site-packages/ipystate/state.py:135: UserWarning: Skipping walk through <class 'int'>\n",
      "Walking trough too many objects\n",
      "Use %enable_full_walk to serialize all variables correctly\n",
      "  {name: self._state[name] for name in self._state.varnames() if not self._skip_variable(name)}\n",
      "/kernel/lib/python3.7/site-packages/ipystate/state.py:135: UserWarning: Skipping walk through <class 'dict'> with size: 141166\n",
      "Use %enable_full_walk to serialize all variables correctly\n",
      "  {name: self._state[name] for name in self._state.varnames() if not self._skip_variable(name)}\n",
      "/kernel/lib/python3.7/site-packages/ipystate/state.py:135: UserWarning: Skipping walk through <class 'dict'> with size: 141166\n",
      "Use %enable_full_walk to serialize all variables correctly\n",
      "  {name: self._state[name] for name in self._state.varnames() if not self._skip_variable(name)}\n",
      "/kernel/lib/python3.7/site-packages/ipystate/state.py:135: UserWarning: Skipping walk through <class 'dict'> with size: 141166\n",
      "Use %enable_full_walk to serialize all variables correctly\n",
      "  {name: self._state[name] for name in self._state.varnames() if not self._skip_variable(name)}\n",
      "/kernel/lib/python3.7/site-packages/ipystate/state.py:135: UserWarning: Skipping walk through <class 'dict'> with size: 141166\n",
      "Use %enable_full_walk to serialize all variables correctly\n",
      "  {name: self._state[name] for name in self._state.varnames() if not self._skip_variable(name)}\n"
     ]
    }
   ],
   "source": [
    "x=lda.show_topics(num_topics=25, num_words=7,formatted=False)\n",
    "topics_words = [(tp[0], [wd[0] for wd in tp[1]]) for tp in x]\n",
    "\n",
    "#Below Code Prints Only Words \n",
    "for topic,words in topics_words:\n",
    "    print(\"topic_{}: \".format(topic)+\" \".join(words))"
   ]
  },
  {
   "cell_type": "markdown",
   "metadata": {
    "cellId": "gnvl8qvl5eq01eet9dkcvjg"
   },
   "source": [
    "Очень неплохо - большинство тем вполне можно описать о чем они"
   ]
  },
  {
   "cell_type": "markdown",
   "metadata": {
    "cellId": "4rk41gwl70qpmzlvm0dqdf"
   },
   "source": [
    "Давайте напишем функцию, которая будет нам возвращать векторное представление новости"
   ]
  },
  {
   "cell_type": "code",
   "execution_count": 21,
   "metadata": {
    "cellId": "c70dv5atpfqyizuqlyhxpk"
   },
   "outputs": [
    {
     "name": "stderr",
     "output_type": "stream",
     "text": [
      "/kernel/lib/python3.7/site-packages/ipystate/state.py:135: UserWarning: Skipping walk through <class 'dict'> with size: 141166\n",
      "Use %enable_full_walk to serialize all variables correctly\n",
      "  {name: self._state[name] for name in self._state.varnames() if not self._skip_variable(name)}\n",
      "/kernel/lib/python3.7/site-packages/ipystate/state.py:135: UserWarning: Skipping walk through <class 'dict'> with size: 141166\n",
      "Use %enable_full_walk to serialize all variables correctly\n",
      "  {name: self._state[name] for name in self._state.varnames() if not self._skip_variable(name)}\n",
      "/kernel/lib/python3.7/site-packages/ipystate/state.py:135: UserWarning: Skipping walk through <class 'dict'> with size: 141166\n",
      "Use %enable_full_walk to serialize all variables correctly\n",
      "  {name: self._state[name] for name in self._state.varnames() if not self._skip_variable(name)}\n",
      "/kernel/lib/python3.7/site-packages/ipystate/state.py:135: UserWarning: Skipping walk through <class 'dict'> with size: 141166\n",
      "Use %enable_full_walk to serialize all variables correctly\n",
      "  {name: self._state[name] for name in self._state.varnames() if not self._skip_variable(name)}\n",
      "/kernel/lib/python3.7/site-packages/ipystate/state.py:135: UserWarning: Skipping walk through <class 'list'> with size: 7\n",
      "Use %enable_full_walk to serialize all variables correctly\n",
      "  {name: self._state[name] for name in self._state.varnames() if not self._skip_variable(name)}\n",
      "/kernel/lib/python3.7/site-packages/ipystate/state.py:135: UserWarning: Skipping walk through <class 'list'> with size: 7\n",
      "Use %enable_full_walk to serialize all variables correctly\n",
      "  {name: self._state[name] for name in self._state.varnames() if not self._skip_variable(name)}\n",
      "/kernel/lib/python3.7/site-packages/ipystate/state.py:135: UserWarning: Skipping walk through <class 'list'> with size: 7\n",
      "Use %enable_full_walk to serialize all variables correctly\n",
      "  {name: self._state[name] for name in self._state.varnames() if not self._skip_variable(name)}\n",
      "/kernel/lib/python3.7/site-packages/ipystate/state.py:135: UserWarning: Skipping walk through <class 'int'>\n",
      "Walking trough too many objects\n",
      "Use %enable_full_walk to serialize all variables correctly\n",
      "  {name: self._state[name] for name in self._state.varnames() if not self._skip_variable(name)}\n",
      "/kernel/lib/python3.7/site-packages/ipystate/state.py:135: UserWarning: Skipping walk through <class 'dict'> with size: 141166\n",
      "Use %enable_full_walk to serialize all variables correctly\n",
      "  {name: self._state[name] for name in self._state.varnames() if not self._skip_variable(name)}\n",
      "/kernel/lib/python3.7/site-packages/ipystate/state.py:135: UserWarning: Skipping walk through <class 'dict'> with size: 141166\n",
      "Use %enable_full_walk to serialize all variables correctly\n",
      "  {name: self._state[name] for name in self._state.varnames() if not self._skip_variable(name)}\n",
      "/kernel/lib/python3.7/site-packages/ipystate/state.py:135: UserWarning: Skipping walk through <class 'dict'> with size: 141166\n",
      "Use %enable_full_walk to serialize all variables correctly\n",
      "  {name: self._state[name] for name in self._state.varnames() if not self._skip_variable(name)}\n",
      "/kernel/lib/python3.7/site-packages/ipystate/state.py:135: UserWarning: Skipping walk through <class 'dict'> with size: 141166\n",
      "Use %enable_full_walk to serialize all variables correctly\n",
      "  {name: self._state[name] for name in self._state.varnames() if not self._skip_variable(name)}\n"
     ]
    }
   ],
   "source": [
    "def get_lda_vector(text):\n",
    "    unseen_doc = common_dictionary.doc2bow(text)\n",
    "    lda_tuple = lda[unseen_doc]\n",
    "    not_null_topics = dict(\n",
    "        zip([i[0] for i in lda_tuple], [i[1] for i in lda_tuple]))\n",
    "\n",
    "    output_vector = []\n",
    "    for i in range(25):\n",
    "        if i not in not_null_topics:\n",
    "            output_vector.append(0)\n",
    "        else:\n",
    "            output_vector.append(not_null_topics[i])\n",
    "    return np.array(output_vector)"
   ]
  },
  {
   "cell_type": "code",
   "execution_count": 22,
   "metadata": {
    "cellId": "q7o2t2am9op4t1za9el5c"
   },
   "outputs": [
    {
     "data": {
      "text/html": [
       "<div>\n",
       "<style scoped>\n",
       "    .dataframe tbody tr th:only-of-type {\n",
       "        vertical-align: middle;\n",
       "    }\n",
       "\n",
       "    .dataframe tbody tr th {\n",
       "        vertical-align: top;\n",
       "    }\n",
       "\n",
       "    .dataframe thead th {\n",
       "        text-align: right;\n",
       "    }\n",
       "</style>\n",
       "<table border=\"1\" class=\"dataframe\">\n",
       "  <thead>\n",
       "    <tr style=\"text-align: right;\">\n",
       "      <th></th>\n",
       "      <th>doc_id</th>\n",
       "      <th>topic_0</th>\n",
       "      <th>topic_1</th>\n",
       "      <th>topic_2</th>\n",
       "      <th>topic_3</th>\n",
       "      <th>topic_4</th>\n",
       "      <th>topic_5</th>\n",
       "      <th>topic_6</th>\n",
       "      <th>topic_7</th>\n",
       "      <th>topic_8</th>\n",
       "      <th>...</th>\n",
       "      <th>topic_15</th>\n",
       "      <th>topic_16</th>\n",
       "      <th>topic_17</th>\n",
       "      <th>topic_18</th>\n",
       "      <th>topic_19</th>\n",
       "      <th>topic_20</th>\n",
       "      <th>topic_21</th>\n",
       "      <th>topic_22</th>\n",
       "      <th>topic_23</th>\n",
       "      <th>topic_24</th>\n",
       "    </tr>\n",
       "  </thead>\n",
       "  <tbody>\n",
       "    <tr>\n",
       "      <th>0</th>\n",
       "      <td>6</td>\n",
       "      <td>0.000000</td>\n",
       "      <td>0.032223</td>\n",
       "      <td>0.0</td>\n",
       "      <td>0.000000</td>\n",
       "      <td>0.0</td>\n",
       "      <td>0.000000</td>\n",
       "      <td>0.099495</td>\n",
       "      <td>0.000000</td>\n",
       "      <td>0.0</td>\n",
       "      <td>...</td>\n",
       "      <td>0.000000</td>\n",
       "      <td>0.0</td>\n",
       "      <td>0.103344</td>\n",
       "      <td>0.0</td>\n",
       "      <td>0.0</td>\n",
       "      <td>0.0</td>\n",
       "      <td>0.0</td>\n",
       "      <td>0.000000</td>\n",
       "      <td>0.000000</td>\n",
       "      <td>0.0</td>\n",
       "    </tr>\n",
       "    <tr>\n",
       "      <th>1</th>\n",
       "      <td>4896</td>\n",
       "      <td>0.000000</td>\n",
       "      <td>0.000000</td>\n",
       "      <td>0.0</td>\n",
       "      <td>0.252549</td>\n",
       "      <td>0.0</td>\n",
       "      <td>0.000000</td>\n",
       "      <td>0.000000</td>\n",
       "      <td>0.000000</td>\n",
       "      <td>0.0</td>\n",
       "      <td>...</td>\n",
       "      <td>0.000000</td>\n",
       "      <td>0.0</td>\n",
       "      <td>0.339889</td>\n",
       "      <td>0.0</td>\n",
       "      <td>0.0</td>\n",
       "      <td>0.0</td>\n",
       "      <td>0.0</td>\n",
       "      <td>0.000000</td>\n",
       "      <td>0.000000</td>\n",
       "      <td>0.0</td>\n",
       "    </tr>\n",
       "    <tr>\n",
       "      <th>2</th>\n",
       "      <td>4897</td>\n",
       "      <td>0.000000</td>\n",
       "      <td>0.000000</td>\n",
       "      <td>0.0</td>\n",
       "      <td>0.062509</td>\n",
       "      <td>0.0</td>\n",
       "      <td>0.000000</td>\n",
       "      <td>0.000000</td>\n",
       "      <td>0.150183</td>\n",
       "      <td>0.0</td>\n",
       "      <td>...</td>\n",
       "      <td>0.033535</td>\n",
       "      <td>0.0</td>\n",
       "      <td>0.492042</td>\n",
       "      <td>0.0</td>\n",
       "      <td>0.0</td>\n",
       "      <td>0.0</td>\n",
       "      <td>0.0</td>\n",
       "      <td>0.099616</td>\n",
       "      <td>0.045084</td>\n",
       "      <td>0.0</td>\n",
       "    </tr>\n",
       "    <tr>\n",
       "      <th>3</th>\n",
       "      <td>4898</td>\n",
       "      <td>0.166821</td>\n",
       "      <td>0.000000</td>\n",
       "      <td>0.0</td>\n",
       "      <td>0.000000</td>\n",
       "      <td>0.0</td>\n",
       "      <td>0.039298</td>\n",
       "      <td>0.000000</td>\n",
       "      <td>0.000000</td>\n",
       "      <td>0.0</td>\n",
       "      <td>...</td>\n",
       "      <td>0.000000</td>\n",
       "      <td>0.0</td>\n",
       "      <td>0.236896</td>\n",
       "      <td>0.0</td>\n",
       "      <td>0.0</td>\n",
       "      <td>0.0</td>\n",
       "      <td>0.0</td>\n",
       "      <td>0.389356</td>\n",
       "      <td>0.000000</td>\n",
       "      <td>0.0</td>\n",
       "    </tr>\n",
       "    <tr>\n",
       "      <th>4</th>\n",
       "      <td>4899</td>\n",
       "      <td>0.000000</td>\n",
       "      <td>0.000000</td>\n",
       "      <td>0.0</td>\n",
       "      <td>0.000000</td>\n",
       "      <td>0.0</td>\n",
       "      <td>0.000000</td>\n",
       "      <td>0.000000</td>\n",
       "      <td>0.000000</td>\n",
       "      <td>0.0</td>\n",
       "      <td>...</td>\n",
       "      <td>0.000000</td>\n",
       "      <td>0.0</td>\n",
       "      <td>0.155859</td>\n",
       "      <td>0.0</td>\n",
       "      <td>0.0</td>\n",
       "      <td>0.0</td>\n",
       "      <td>0.0</td>\n",
       "      <td>0.000000</td>\n",
       "      <td>0.000000</td>\n",
       "      <td>0.0</td>\n",
       "    </tr>\n",
       "  </tbody>\n",
       "</table>\n",
       "<p>5 rows × 26 columns</p>\n",
       "</div>"
      ],
      "text/plain": [
       "   doc_id   topic_0   topic_1  topic_2   topic_3  topic_4   topic_5   topic_6  \\\n",
       "0       6  0.000000  0.032223      0.0  0.000000      0.0  0.000000  0.099495   \n",
       "1    4896  0.000000  0.000000      0.0  0.252549      0.0  0.000000  0.000000   \n",
       "2    4897  0.000000  0.000000      0.0  0.062509      0.0  0.000000  0.000000   \n",
       "3    4898  0.166821  0.000000      0.0  0.000000      0.0  0.039298  0.000000   \n",
       "4    4899  0.000000  0.000000      0.0  0.000000      0.0  0.000000  0.000000   \n",
       "\n",
       "    topic_7  topic_8  ...  topic_15  topic_16  topic_17  topic_18  topic_19  \\\n",
       "0  0.000000      0.0  ...  0.000000       0.0  0.103344       0.0       0.0   \n",
       "1  0.000000      0.0  ...  0.000000       0.0  0.339889       0.0       0.0   \n",
       "2  0.150183      0.0  ...  0.033535       0.0  0.492042       0.0       0.0   \n",
       "3  0.000000      0.0  ...  0.000000       0.0  0.236896       0.0       0.0   \n",
       "4  0.000000      0.0  ...  0.000000       0.0  0.155859       0.0       0.0   \n",
       "\n",
       "   topic_20  topic_21  topic_22  topic_23  topic_24  \n",
       "0       0.0       0.0  0.000000  0.000000       0.0  \n",
       "1       0.0       0.0  0.000000  0.000000       0.0  \n",
       "2       0.0       0.0  0.099616  0.045084       0.0  \n",
       "3       0.0       0.0  0.389356  0.000000       0.0  \n",
       "4       0.0       0.0  0.000000  0.000000       0.0  \n",
       "\n",
       "[5 rows x 26 columns]"
      ]
     },
     "metadata": {},
     "output_type": "display_data"
    },
    {
     "name": "stderr",
     "output_type": "stream",
     "text": [
      "/kernel/lib/python3.7/site-packages/ipystate/state.py:135: UserWarning: Skipping walk through <class 'dict'> with size: 141166\n",
      "Use %enable_full_walk to serialize all variables correctly\n",
      "  {name: self._state[name] for name in self._state.varnames() if not self._skip_variable(name)}\n",
      "/kernel/lib/python3.7/site-packages/ipystate/state.py:135: UserWarning: Skipping walk through <class 'dict'> with size: 141166\n",
      "Use %enable_full_walk to serialize all variables correctly\n",
      "  {name: self._state[name] for name in self._state.varnames() if not self._skip_variable(name)}\n",
      "/kernel/lib/python3.7/site-packages/ipystate/state.py:135: UserWarning: Skipping walk through <class 'dict'> with size: 141166\n",
      "Use %enable_full_walk to serialize all variables correctly\n",
      "  {name: self._state[name] for name in self._state.varnames() if not self._skip_variable(name)}\n",
      "/kernel/lib/python3.7/site-packages/ipystate/state.py:135: UserWarning: Skipping walk through <class 'dict'> with size: 141166\n",
      "Use %enable_full_walk to serialize all variables correctly\n",
      "  {name: self._state[name] for name in self._state.varnames() if not self._skip_variable(name)}\n",
      "/kernel/lib/python3.7/site-packages/ipystate/state.py:135: UserWarning: Skipping walk through <class 'list'> with size: 7\n",
      "Use %enable_full_walk to serialize all variables correctly\n",
      "  {name: self._state[name] for name in self._state.varnames() if not self._skip_variable(name)}\n",
      "/kernel/lib/python3.7/site-packages/ipystate/state.py:135: UserWarning: Skipping walk through <class 'list'> with size: 7\n",
      "Use %enable_full_walk to serialize all variables correctly\n",
      "  {name: self._state[name] for name in self._state.varnames() if not self._skip_variable(name)}\n",
      "/kernel/lib/python3.7/site-packages/ipystate/state.py:135: UserWarning: Skipping walk through <class 'list'> with size: 7\n",
      "Use %enable_full_walk to serialize all variables correctly\n",
      "  {name: self._state[name] for name in self._state.varnames() if not self._skip_variable(name)}\n",
      "/kernel/lib/python3.7/site-packages/ipystate/state.py:135: UserWarning: Skipping walk through <class 'int'>\n",
      "Walking trough too many objects\n",
      "Use %enable_full_walk to serialize all variables correctly\n",
      "  {name: self._state[name] for name in self._state.varnames() if not self._skip_variable(name)}\n",
      "/kernel/lib/python3.7/site-packages/ipystate/state.py:135: UserWarning: Skipping walk through <class 'dict'> with size: 141166\n",
      "Use %enable_full_walk to serialize all variables correctly\n",
      "  {name: self._state[name] for name in self._state.varnames() if not self._skip_variable(name)}\n",
      "/kernel/lib/python3.7/site-packages/ipystate/state.py:135: UserWarning: Skipping walk through <class 'dict'> with size: 141166\n",
      "Use %enable_full_walk to serialize all variables correctly\n",
      "  {name: self._state[name] for name in self._state.varnames() if not self._skip_variable(name)}\n",
      "/kernel/lib/python3.7/site-packages/ipystate/state.py:135: UserWarning: Skipping walk through <class 'dict'> with size: 141166\n",
      "Use %enable_full_walk to serialize all variables correctly\n",
      "  {name: self._state[name] for name in self._state.varnames() if not self._skip_variable(name)}\n",
      "/kernel/lib/python3.7/site-packages/ipystate/state.py:135: UserWarning: Skipping walk through <class 'dict'> with size: 141166\n",
      "Use %enable_full_walk to serialize all variables correctly\n",
      "  {name: self._state[name] for name in self._state.varnames() if not self._skip_variable(name)}\n"
     ]
    }
   ],
   "source": [
    "topic_matrix = pd.DataFrame([get_lda_vector(text) for text in news['title'].values])\n",
    "topic_matrix.columns = ['topic_{}'.format(i) for i in range(25)]\n",
    "topic_matrix['doc_id'] = news['doc_id'].values\n",
    "topic_matrix = topic_matrix[['doc_id']+['topic_{}'.format(i) for i in range(25)]]\n",
    "topic_matrix.head(5)"
   ]
  },
  {
   "cell_type": "markdown",
   "metadata": {
    "cellId": "krhvk3q87rirh27ps0kt7l"
   },
   "source": [
    "Прекрасно, мы получили вектора наших новостей! И даже умеем интерпретировать получившиеся темы.\n",
    "\n",
    "Можно двигаться далее"
   ]
  },
  {
   "cell_type": "code",
   "execution_count": 23,
   "metadata": {
    "cellId": "jgxxzuiy77lfag6wv5qmgp"
   },
   "outputs": [],
   "source": [
    "import warnings\n",
    "\n",
    "warnings.filterwarnings('ignore')"
   ]
  },
  {
   "cell_type": "markdown",
   "metadata": {
    "cellId": "ga1l2bvs94nov9ojgu8"
   },
   "source": [
    "### Следующий шаг - векторные представления пользователей"
   ]
  },
  {
   "cell_type": "code",
   "execution_count": null,
   "metadata": {
    "cellId": "1hyvg8gi3dln7efxorb1r",
    "scrolled": true
   },
   "outputs": [],
   "source": [
    "# users.head(3)"
   ]
  },
  {
   "cell_type": "code",
   "execution_count": 24,
   "metadata": {
    "cellId": "ee4yc15jvoq8nb9uqk9alr"
   },
   "outputs": [],
   "source": [
    "doc_dict = dict(zip(topic_matrix['doc_id'].values, topic_matrix[['topic_{}'.format(i) for i in range(25)]].values))"
   ]
  },
  {
   "cell_type": "code",
   "execution_count": null,
   "metadata": {
    "cellId": "zywxcbn371qgkt03zts6eh"
   },
   "outputs": [],
   "source": [
    "# doc_dict[293622]"
   ]
  },
  {
   "cell_type": "code",
   "execution_count": 25,
   "metadata": {
    "cellId": "oli5lfsg8xdxx9t01xadfl"
   },
   "outputs": [
    {
     "data": {
      "text/plain": [
       "'[323329, 321961, 324743, 323186, 324632, 474690]'"
      ]
     },
     "metadata": {},
     "output_type": "display_data"
    },
    {
     "data": {
      "text/plain": [
       "[323329, 321961, 324743, 323186, 324632, 474690]"
      ]
     },
     "metadata": {},
     "output_type": "display_data"
    }
   ],
   "source": [
    "user_articles_list = users['articles'].iloc[33]\n",
    "display(user_articles_list, \n",
    "        eval(user_articles_list)\n",
    "       )"
   ]
  },
  {
   "cell_type": "markdown",
   "metadata": {
    "cellId": "s23x0ur6h7gku0ntg0se7"
   },
   "source": [
    "---"
   ]
  },
  {
   "cell_type": "code",
   "execution_count": 26,
   "metadata": {
    "cellId": "qvr6068h73n0jqsmhymoc"
   },
   "outputs": [],
   "source": [
    "def get_user_embedding_mean(user_articles_list):\n",
    "    user_articles_list = eval(user_articles_list)\n",
    "    user_vector = np.array([doc_dict[doc_id] for doc_id in user_articles_list])\n",
    "    user_vector = np.mean(user_vector, 0)\n",
    "    return user_vector\n",
    "\n",
    "def get_user_embedding_median(user_articles_list):\n",
    "    user_articles_list = eval(user_articles_list)\n",
    "    user_vector = np.array([doc_dict[doc_id] for doc_id in user_articles_list])\n",
    "    user_vector = np.median(user_vector, 0)\n",
    "    return user_vector\n",
    "\n",
    "def get_user_embedding_max(user_articles_list):\n",
    "    user_articles_list = eval(user_articles_list)\n",
    "    user_vector = np.array([doc_dict[doc_id] for doc_id in user_articles_list])\n",
    "    user_vector = np.max(user_vector, 0)\n",
    "    return user_vector"
   ]
  },
  {
   "cell_type": "code",
   "execution_count": 27,
   "metadata": {
    "cellId": "v9p3eyn8muwbu1vyefs"
   },
   "outputs": [],
   "source": [
    "def score_with_user_embedding(func):\n",
    "    from sklearn.linear_model import LogisticRegression\n",
    "    from sklearn.model_selection import train_test_split\n",
    "    from sklearn.metrics import f1_score, roc_auc_score, precision_score, classification_report, precision_recall_curve, confusion_matrix\n",
    "\n",
    "    user_embeddings = pd.DataFrame([i for i in users['articles'].apply(lambda x: func(x), 1)])\n",
    "    user_embeddings.columns = [f'topic_{i}' for i in range(25)]\n",
    "    user_embeddings['uid'] = users['uid'].values\n",
    "    user_embeddings = user_embeddings[['uid'] + [f'topic_{i}' for i in range(25)]]\n",
    "\n",
    "    X = pd.merge(user_embeddings, target, 'left')\n",
    "\n",
    "    X_train, X_test, y_train, y_test = train_test_split(\n",
    "    X[[f'topic_{i}' for i in range(25)]], X['churn'], random_state=0)\n",
    "    \n",
    "    logreg = LogisticRegression()\n",
    "    logreg.fit(X_train, y_train)\n",
    "\n",
    "    preds = logreg.predict_proba(X_test)[:, 1]\n",
    "\n",
    "    precision, recall, thresholds = precision_recall_curve(y_test, preds)\n",
    "    fscore = (2 * precision * recall) / (precision + recall)\n",
    "    ix = np.argmax(fscore)\n",
    "    roc_auc_score = roc_auc_score(y_test, preds)\n",
    "\n",
    "    return round(thresholds[ix], 4), round(fscore[ix], 4), round(precision[ix], 4), round(recall[ix], 4), round(roc_auc_score, 4)"
   ]
  },
  {
   "cell_type": "code",
   "execution_count": 28,
   "metadata": {
    "cellId": "cbzdg2ehzh1rqauv2kqh1i"
   },
   "outputs": [],
   "source": [
    "target = pd.read_csv(\"users_churn.csv\")"
   ]
  },
  {
   "cell_type": "markdown",
   "metadata": {
    "cellId": "r2myag215pev4sq6pqwnu"
   },
   "source": [
    "### Сформировать на выходе единую таблицу, сравнивающую качество 3 разных метода получения эмбедингов пользователей: `mean`, `median`, `max`, `idf_mean` по метрикам `roc_auc`, `precision`, `recall`, `f_score`"
   ]
  },
  {
   "cell_type": "code",
   "execution_count": 29,
   "metadata": {
    "cellId": "t7zy3m0uh1iul4bp3omxa"
   },
   "outputs": [],
   "source": [
    "results = pd.DataFrame(np.array([\n",
    "    score_with_user_embedding(func=get_user_embedding_mean),\n",
    "    score_with_user_embedding(func=get_user_embedding_median),\n",
    "    score_with_user_embedding(func=get_user_embedding_max)\n",
    "]), columns=['Best Threshold', 'F-Score', 'Precision', 'Recall', 'ROC AUC score'])\n",
    "\n",
    "results['func'] = ['mean', 'median', 'max']\n",
    "results = results.set_index('func')"
   ]
  },
  {
   "cell_type": "code",
   "execution_count": 30,
   "metadata": {
    "cellId": "n3nlsku46seuhv2pg0igv"
   },
   "outputs": [
    {
     "data": {
      "text/html": [
       "<div>\n",
       "<style scoped>\n",
       "    .dataframe tbody tr th:only-of-type {\n",
       "        vertical-align: middle;\n",
       "    }\n",
       "\n",
       "    .dataframe tbody tr th {\n",
       "        vertical-align: top;\n",
       "    }\n",
       "\n",
       "    .dataframe thead th {\n",
       "        text-align: right;\n",
       "    }\n",
       "</style>\n",
       "<table border=\"1\" class=\"dataframe\">\n",
       "  <thead>\n",
       "    <tr style=\"text-align: right;\">\n",
       "      <th></th>\n",
       "      <th>Best Threshold</th>\n",
       "      <th>F-Score</th>\n",
       "      <th>Precision</th>\n",
       "      <th>Recall</th>\n",
       "      <th>ROC AUC score</th>\n",
       "    </tr>\n",
       "    <tr>\n",
       "      <th>func</th>\n",
       "      <th></th>\n",
       "      <th></th>\n",
       "      <th></th>\n",
       "      <th></th>\n",
       "      <th></th>\n",
       "    </tr>\n",
       "  </thead>\n",
       "  <tbody>\n",
       "    <tr>\n",
       "      <th>mean</th>\n",
       "      <td>0.2575</td>\n",
       "      <td>0.6955</td>\n",
       "      <td>0.6446</td>\n",
       "      <td>0.7551</td>\n",
       "      <td>0.9473</td>\n",
       "    </tr>\n",
       "    <tr>\n",
       "      <th>median</th>\n",
       "      <td>0.2598</td>\n",
       "      <td>0.7455</td>\n",
       "      <td>0.6645</td>\n",
       "      <td>0.8490</td>\n",
       "      <td>0.9626</td>\n",
       "    </tr>\n",
       "    <tr>\n",
       "      <th>max</th>\n",
       "      <td>0.3536</td>\n",
       "      <td>0.7265</td>\n",
       "      <td>0.7265</td>\n",
       "      <td>0.7265</td>\n",
       "      <td>0.9569</td>\n",
       "    </tr>\n",
       "  </tbody>\n",
       "</table>\n",
       "</div>"
      ],
      "text/plain": [
       "        Best Threshold  F-Score  Precision  Recall  ROC AUC score\n",
       "func                                                             \n",
       "mean            0.2575   0.6955     0.6446  0.7551         0.9473\n",
       "median          0.2598   0.7455     0.6645  0.8490         0.9626\n",
       "max             0.3536   0.7265     0.7265  0.7265         0.9569"
      ]
     },
     "metadata": {},
     "output_type": "display_data"
    }
   ],
   "source": [
    "results"
   ]
  },
  {
   "cell_type": "markdown",
   "metadata": {
    "cellId": "50nqbm5wcgfcxc70zb2a7m"
   },
   "source": [
    "Судя по Precision, самый эффективный способ получается через `max`. "
   ]
  },
  {
   "cell_type": "code",
   "execution_count": null,
   "metadata": {
    "cellId": "o8dnchr8fewagbszztpn"
   },
   "outputs": [],
   "source": []
  }
 ],
 "metadata": {
  "kernelspec": {
   "display_name": "Python 3",
   "language": "python",
   "name": "python3"
  },
  "language_info": {
   "codemirror_mode": {
    "name": "ipython",
    "version": 3
   },
   "file_extension": ".py",
   "mimetype": "text/x-python",
   "name": "python",
   "nbconvert_exporter": "python",
   "pygments_lexer": "ipython3",
   "version": "3.7.6"
  },
  "notebookId": "8a6b8cbd-82bd-4820-8983-bb7c975571ee",
  "toc": {
   "base_numbering": 1,
   "nav_menu": {},
   "number_sections": true,
   "sideBar": true,
   "skip_h1_title": false,
   "title_cell": "Table of Contents",
   "title_sidebar": "Contents",
   "toc_cell": false,
   "toc_position": {
    "height": "calc(100% - 180px)",
    "left": "10px",
    "top": "150px",
    "width": "256px"
   },
   "toc_section_display": true,
   "toc_window_display": false
  }
 },
 "nbformat": 4,
 "nbformat_minor": 4
}
